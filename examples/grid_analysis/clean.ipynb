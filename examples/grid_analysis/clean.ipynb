{
 "cells": [
  {
   "cell_type": "code",
   "execution_count": 1,
   "metadata": {},
   "outputs": [],
   "source": [
    "import os\n",
    "import glob\n",
    "import pandas as pd\n",
    "import re\n",
    "import seaborn as sns\n",
    "import matplotlib.pyplot as plt\n",
    "\n",
    "APP_FILE = \"application\"\n",
    "INFRA_FILE = \"infrastructure\"\n",
    "SIM_FILE = \"simulation\"\n",
    "base_path = \"\" # path to the directory containing the Ray Tune results"
   ]
  },
  {
   "cell_type": "code",
   "execution_count": 2,
   "metadata": {},
   "outputs": [],
   "source": [
    "def parse_directory_name(dirname):\n",
    "    # Extract the part containing the parameters\n",
    "    params_part = re.search(r\"load=.*\", dirname).group(0)\n",
    "    # Extract only the parameters, excluding the timestamp at the end\n",
    "    params_part = re.split(r\"_\\d{4}-\\d{2}-\\d{2}_\\d{2}-\\d{2}-\\d{2}\", params_part)[0]\n",
    "\n",
    "    # Find all param=value pairs\n",
    "    pattern = r\"(\\w+)=([^,]+)\"\n",
    "    matches = re.findall(pattern, params_part)\n",
    "    params = {param: value for param, value in matches}\n",
    "    return params"
   ]
  },
  {
   "cell_type": "code",
   "execution_count": 3,
   "metadata": {},
   "outputs": [],
   "source": [
    "def read_parquets(base_path):\n",
    "    app_combined_df = pd.read_parquet(os.path.join(base_path, f\"{APP_FILE}.parquet\"))\n",
    "    infra_combined_df = pd.read_parquet(\n",
    "        os.path.join(base_path, f\"{INFRA_FILE}.parquet\")\n",
    "    )\n",
    "    sim_combined_df = pd.read_parquet(os.path.join(base_path, f\"{SIM_FILE}.parquet\"))\n",
    "\n",
    "    return app_combined_df, infra_combined_df, sim_combined_df"
   ]
  },
  {
   "cell_type": "code",
   "execution_count": 7,
   "metadata": {},
   "outputs": [
    {
     "name": "stdout",
     "output_type": "stream",
     "text": [
      "Processing directory 756/762\r"
     ]
    }
   ],
   "source": [
    "def process_directories(base_path):\n",
    "    directories = glob.glob(os.path.join(base_path, \"*\"))\n",
    "\n",
    "    app_dfs = []\n",
    "    infra_dfs = []\n",
    "    sim_dfs = []\n",
    "\n",
    "    dir_num = 1\n",
    "    tot_dir = len(directories)\n",
    "\n",
    "    for directory in directories:\n",
    "        print(f\"Processing directory {dir_num}/{tot_dir}\", end=\"\\r\")\n",
    "        if not os.path.isdir(directory):\n",
    "            continue\n",
    "        params = parse_directory_name(os.path.basename(directory))\n",
    "        stats_path = os.path.join(directory, \"output/stats\")\n",
    "\n",
    "        try:\n",
    "            app_df = pd.read_csv(os.path.join(stats_path, f\"{APP_FILE}.csv\"))\n",
    "            infra_df = pd.read_csv(os.path.join(stats_path, f\"{INFRA_FILE}.csv\"))\n",
    "            sim_df = pd.read_csv(os.path.join(stats_path, f\"{SIM_FILE}.csv\"))\n",
    "        except FileNotFoundError:\n",
    "            print(f\"Files not found in {stats_path}\")\n",
    "            continue\n",
    "\n",
    "        # Add config params as new columns\n",
    "        for param, value in params.items():\n",
    "            app_df[param] = value\n",
    "            infra_df[param] = value\n",
    "            sim_df[param] = value\n",
    "\n",
    "        app_dfs.append(app_df)\n",
    "        infra_dfs.append(infra_df)\n",
    "        sim_dfs.append(sim_df)\n",
    "        dir_num += 1\n",
    "\n",
    "    # Concatenate all DataFrames\n",
    "    app_combined_df = pd.concat(app_dfs, ignore_index=True)\n",
    "    infra_combined_df = pd.concat(infra_dfs, ignore_index=True)\n",
    "    sim_combined_df = pd.concat(sim_dfs, ignore_index=True)\n",
    "\n",
    "    app_combined_df.drop(columns=[\"event_id\"], inplace=True)\n",
    "    infra_combined_df.drop(columns=[\"event_id\"], inplace=True)\n",
    "    sim_combined_df.drop(columns=[\"event_id\"], inplace=True)\n",
    "\n",
    "    app_combined_df.to_parquet(\n",
    "        os.path.join(base_path, f\"{APP_FILE}.parquet\"),\n",
    "        index=False,\n",
    "        compression=\"brotli\",\n",
    "    )\n",
    "    infra_combined_df.to_parquet(\n",
    "        os.path.join(base_path, f\"{INFRA_FILE}.parquet\"),\n",
    "        index=False,\n",
    "        compression=\"brotli\",\n",
    "    )\n",
    "    sim_combined_df.to_parquet(\n",
    "        os.path.join(base_path, f\"{SIM_FILE}.parquet\"),\n",
    "        index=False,\n",
    "        compression=\"brotli\",\n",
    "    )\n",
    "\n",
    "process_directories(base_path)"
   ]
  },
  {
   "cell_type": "code",
   "execution_count": 8,
   "metadata": {},
   "outputs": [],
   "source": [
    "app_df, infra_df, sim_df = read_parquets(base_path)\n",
    "dfs = {\"application\": app_df, \"infrastructure\": infra_df, \"simulation\": sim_df}"
   ]
  },
  {
   "cell_type": "code",
   "execution_count": 10,
   "metadata": {},
   "outputs": [],
   "source": [
    "for name, df in dfs.items():\n",
    "    df[\"policy\"] = df[\"policy\"].replace(\n",
    "            {\n",
    "                \"degrade_0_4\": \"degrade to 40%\",\n",
    "                \"degrade_0_5\": \"degrade to 50%\",\n",
    "                \"degrade_0_6\": \"degrade to 60%\",\n",
    "                \"kill_0_01\": \"kill 1%\",\n",
    "                \"kill_0_05\": \"kill 5%\",\n",
    "                \"kill_0_1\": \"kill 10%\",\n",
    "            }\n",
    "        )\n",
    "    df[\"topology\"] = df[\"topology\"].replace({\"random_0_5\": \"random\"})"
   ]
  },
  {
   "cell_type": "code",
   "execution_count": 13,
   "metadata": {},
   "outputs": [],
   "source": [
    "old_app_df = pd.read_parquet(\"./results/application.parquet\")\n",
    "old_infra_df = pd.read_parquet(\"./results/infrastructure.parquet\")\n",
    "old_sim_df = pd.read_parquet(\"./results/simulation.parquet\")"
   ]
  },
  {
   "cell_type": "code",
   "execution_count": 15,
   "metadata": {},
   "outputs": [],
   "source": [
    "new_app_df = pd.concat([old_app_df, app_df], ignore_index=True)\n",
    "new_infra_df = pd.concat([old_infra_df, infra_df], ignore_index=True)\n",
    "new_sim_df = pd.concat([old_sim_df, sim_df], ignore_index=True)"
   ]
  },
  {
   "cell_type": "code",
   "execution_count": 16,
   "metadata": {},
   "outputs": [],
   "source": [
    "new_dfs = {\"application\": new_app_df, \"infrastructure\": new_infra_df, \"simulation\": new_sim_df}"
   ]
  },
  {
   "cell_type": "code",
   "execution_count": 16,
   "metadata": {},
   "outputs": [],
   "source": [
    "new_app_df.to_parquet(\"./results/application.parquet\", compression=\"brotli\")\n",
    "new_infra_df.to_parquet(\"./results/infrastructure.parquet\", compression=\"brotli\")\n",
    "new_sim_df.to_parquet(\"./results/simulation.parquet\", compression=\"brotli\")"
   ]
  }
 ],
 "metadata": {
  "kernelspec": {
   "display_name": ".venv",
   "language": "python",
   "name": "python3"
  },
  "language_info": {
   "codemirror_mode": {
    "name": "ipython",
    "version": 3
   },
   "file_extension": ".py",
   "mimetype": "text/x-python",
   "name": "python",
   "nbconvert_exporter": "python",
   "pygments_lexer": "ipython3",
   "version": "3.11.0"
  }
 },
 "nbformat": 4,
 "nbformat_minor": 2
}
